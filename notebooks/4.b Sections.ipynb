{
 "cells": [
  {
   "cell_type": "markdown",
   "id": "8146deb6",
   "metadata": {},
   "source": [
    "# Extraction - Sections & Templates\n",
    "\n",
    "This Notebook explores the interesting sections in the example dump (20220601).\n",
    "\n",
    "It answers the following questions:\n",
    "* How many sections of each type exist?\n",
    "* Can we rely on section names?\n",
    "* Which templates are characteristical for a seciton, what is the ratio of normal Wikilinks?\n",
    "* For Etymology: how much can we rely on the template mechanism?"
   ]
  },
  {
   "cell_type": "code",
   "execution_count": null,
   "id": "d02e670a",
   "metadata": {},
   "outputs": [],
   "source": [
    "import re\n",
    "from collections import defaultdict, Counter\n",
    "from pathlib import Path\n",
    "import logging\n",
    "import json\n",
    "\n",
    "logging.basicConfig(level=logging.DEBUG)\n",
    "logging.getLogger(\"matplotlib\").setLevel(logging.WARNING)\n",
    "\n",
    "import numpy as np\n",
    "import matplotlib as plt\n",
    "import pandas as pd\n",
    "from tqdm import tqdm\n",
    "import wikitextparser as wtp\n",
    "\n",
    "from etymmap.wiktionary import Wiktionary, MongoEntryStore\n",
    "from etymmap.specific_en.utils import strip_etymology_header\n",
    "from etymmap.specific_en import configure, consts\n",
    "\n",
    "from utils import cached\n",
    "from utils.sections import *\n",
    "\n",
    "\n",
    "DATA_PATH = Path(\"./data/enwiktionary-20220601-pages-meta-current\")\n",
    "# configure language module\n",
    "configure()\n",
    "store = MongoEntryStore.from_config(\n",
    "    {\n",
    "        \"address\": \"mongodb://localhost:27017\",\n",
    "        \"dbname\": \"enwiktionary\",\n",
    "        \"collection\": \"20220601\",\n",
    "    }\n",
    ")\n",
    "enw = Wiktionary(store, default_namespaces=(0, 118))"
   ]
  },
  {
   "cell_type": "markdown",
   "id": "3c762113",
   "metadata": {},
   "source": [
    "# Can we rely on section names?"
   ]
  },
  {
   "cell_type": "code",
   "execution_count": null,
   "id": "d5656e5a",
   "metadata": {},
   "outputs": [],
   "source": [
    "section_count = cached(lambda: count_sections(enw), DATA_PATH / \"section_names.pickle\")\n",
    "section_count"
   ]
  },
  {
   "cell_type": "code",
   "execution_count": null,
   "id": "5298ec03",
   "metadata": {},
   "outputs": [],
   "source": [
    "sum(section_count[\"etym\"].values())"
   ]
  },
  {
   "cell_type": "markdown",
   "id": "2bc44dd6",
   "metadata": {},
   "source": [
    "# Template type frequencies by section"
   ]
  },
  {
   "cell_type": "code",
   "execution_count": null,
   "id": "aec951ce",
   "metadata": {},
   "outputs": [],
   "source": [
    "templates_by_section = cached(\n",
    "    lambda: template_counts_by_section(enw), DATA_PATH / \"section_templates.pickle\"\n",
    ")"
   ]
  },
  {
   "cell_type": "code",
   "execution_count": null,
   "id": "b343dd75",
   "metadata": {},
   "outputs": [],
   "source": [
    "def to_df(name):\n",
    "    df = pd.Series(\n",
    "        {k: v for k, v in templates_by_section[name].most_common()},\n",
    "        dtype=\"uint32\",\n",
    "        name=\"count\",\n",
    "    ).to_frame()\n",
    "    df[\"ratio\"] = df[\"count\"] / df[\"count\"].sum()\n",
    "    df[\"ratio_no_wikilink\"] = df[\"count\"] / (\n",
    "        df[\"count\"].sum() - df.loc[\"WIKILINK\", \"count\"]\n",
    "    )\n",
    "    return df"
   ]
  },
  {
   "cell_type": "markdown",
   "id": "8db4c210",
   "metadata": {},
   "source": [
    "## Derived terms"
   ]
  },
  {
   "cell_type": "code",
   "execution_count": null,
   "id": "83207ed3",
   "metadata": {},
   "outputs": [],
   "source": [
    "print(\"\\n\".join(section_examples(enw, consts.DERIVED_TERMS)))"
   ]
  },
  {
   "cell_type": "code",
   "execution_count": null,
   "id": "2ac7d464",
   "metadata": {},
   "outputs": [],
   "source": [
    "df = to_df(\"Derived\")\n",
    "df[\"count\"].iloc[:40].plot(kind=\"bar\", figsize=(16, 5))"
   ]
  },
  {
   "cell_type": "code",
   "execution_count": null,
   "id": "a08dad6b",
   "metadata": {},
   "outputs": [],
   "source": [
    "# grouping\n",
    "groups = (\n",
    "    df[[\"ratio\", \"ratio_no_wikilink\"]]\n",
    "    .groupby(\n",
    "        by=lambda t: \"link\"\n",
    "        if t == \"l\"\n",
    "        else \"wikilink\"\n",
    "        if t == \"WIKILINK\"\n",
    "        else \"col\"\n",
    "        if t.startswith(\"rel\") or t.startswith(\"col\")\n",
    "        else \"qualifier\"\n",
    "        if t in {\"q\", \"qualifier\"}\n",
    "        else \"zh\"\n",
    "        if \"zh-\" in t\n",
    "        else \"ja\"\n",
    "        if \"ja-\" in t\n",
    "        else \"zoo\"\n",
    "        if t in {\"vern\", \"taxlink\"}\n",
    "        else \"other\"\n",
    "    )\n",
    "    .sum()\n",
    "    .sort_values(\"ratio\", ascending=False)\n",
    ")\n",
    "groups.loc[\"wikilink\", \"ratio_no_wikilink\"] = None\n",
    "groups"
   ]
  },
  {
   "cell_type": "markdown",
   "id": "c12c4de6",
   "metadata": {},
   "source": [
    "## Related terms"
   ]
  },
  {
   "cell_type": "code",
   "execution_count": null,
   "id": "8c3508d8",
   "metadata": {},
   "outputs": [],
   "source": [
    "print(\"\\n\".join(section_examples(enw, consts.RELATED_TERMS)))"
   ]
  },
  {
   "cell_type": "code",
   "execution_count": null,
   "id": "9b4f5a9d",
   "metadata": {},
   "outputs": [],
   "source": [
    "df = to_df(\"Related\")\n",
    "print(len(df))\n",
    "df[\"count\"].iloc[:40].plot(kind=\"bar\", figsize=(16, 5))"
   ]
  },
  {
   "cell_type": "code",
   "execution_count": null,
   "id": "fd4121a0",
   "metadata": {},
   "outputs": [],
   "source": [
    "# grouping\n",
    "groups = (\n",
    "    df[[\"ratio\", \"ratio_no_wikilink\"]]\n",
    "    .groupby(\n",
    "        by=lambda t: \"link\"\n",
    "        if t == \"l\"\n",
    "        else \"wikilink\"\n",
    "        if t == \"WIKILINK\"\n",
    "        else \"col\"\n",
    "        if t.startswith(\"rel\") or t.startswith(\"col\")\n",
    "        else \"qualifier\"\n",
    "        if t in {\"q\", \"qualifier\"}\n",
    "        else \"zh\"\n",
    "        if \"zh-\" in t\n",
    "        else \"ja\"\n",
    "        if \"ja-\" in t\n",
    "        else \"other\"\n",
    "    )\n",
    "    .sum()\n",
    "    .sort_values(\"ratio\", ascending=False)\n",
    ")\n",
    "groups.loc[\"wikilink\", \"ratio_no_wikilink\"] = None\n",
    "groups"
   ]
  },
  {
   "cell_type": "markdown",
   "id": "318bec47",
   "metadata": {},
   "source": [
    "## Descendants"
   ]
  },
  {
   "cell_type": "code",
   "execution_count": null,
   "id": "a1812b4c",
   "metadata": {},
   "outputs": [],
   "source": [
    "print(\"\\n\".join(section_examples(enw, consts.DESCENDANTS)))"
   ]
  },
  {
   "cell_type": "code",
   "execution_count": null,
   "id": "d6073cb5",
   "metadata": {},
   "outputs": [],
   "source": [
    "df = to_df(\"Descendants\")\n",
    "print(len(df))\n",
    "df[\"count\"].iloc[:40].plot(kind=\"bar\", figsize=(16, 5))"
   ]
  },
  {
   "cell_type": "code",
   "execution_count": null,
   "id": "30028cc1",
   "metadata": {},
   "outputs": [],
   "source": [
    "# grouping\n",
    "groups = (\n",
    "    df[[\"ratio\", \"ratio_no_wikilink\"]]\n",
    "    .groupby(\n",
    "        by=lambda t: \"desc\"\n",
    "        if t in {\"desc\", \"desctree\"}\n",
    "        else \"wikilink\"\n",
    "        if t == \"WIKILINK\"\n",
    "        else \"l\"\n",
    "        if t == \"l\"\n",
    "        else \"qualifier\"\n",
    "        if t in {\"q\", \"qualifier\"}\n",
    "        else \"cat\"\n",
    "        if t in {\"c\", \"C\", \"topics\"}\n",
    "        else \"CJKV\"\n",
    "        if t == \"CJKV\"\n",
    "        else \"other\"\n",
    "    )\n",
    "    .sum()\n",
    "    .sort_values(\"ratio\", ascending=False)\n",
    ")\n",
    "groups.loc[\"wikilink\", \"ratio_no_wikilink\"] = None\n",
    "groups"
   ]
  },
  {
   "cell_type": "markdown",
   "id": "b0b0128f",
   "metadata": {},
   "source": [
    "## Etymology"
   ]
  },
  {
   "cell_type": "code",
   "execution_count": null,
   "id": "08ef3fd9",
   "metadata": {},
   "outputs": [],
   "source": [
    "print(\"\\n\".join(section_examples(enw, consts.ETYMOLOGY_SECTION)))"
   ]
  },
  {
   "cell_type": "code",
   "execution_count": null,
   "id": "3dd1e63f",
   "metadata": {},
   "outputs": [],
   "source": [
    "df = to_df(\"Etym\")\n",
    "print(len(df))\n",
    "df[\"count\"].iloc[:40].plot(kind=\"bar\", figsize=(16, 5))"
   ]
  },
  {
   "cell_type": "code",
   "execution_count": null,
   "id": "657c2784",
   "metadata": {},
   "outputs": [],
   "source": [
    "df.head(30)"
   ]
  },
  {
   "cell_type": "code",
   "execution_count": null,
   "id": "e8e9d866",
   "metadata": {},
   "outputs": [],
   "source": [
    "known_templates = df[\n",
    "    df.index.isin(\n",
    "        [v for vals in Specific.template_handler.get_names().values() for v in vals]\n",
    "    )\n",
    "]\n",
    "known_templates.sum()"
   ]
  },
  {
   "cell_type": "code",
   "execution_count": null,
   "id": "2d68af1e",
   "metadata": {},
   "outputs": [],
   "source": [
    "known_templates[\"count\"].head(50)"
   ]
  },
  {
   "cell_type": "code",
   "execution_count": null,
   "id": "d25bab9a",
   "metadata": {},
   "outputs": [],
   "source": [
    "unknown_templates = df[\n",
    "    ~df.index.isin(\n",
    "        [v for vals in Specific.template_handler.get_names().values() for v in vals]\n",
    "    )\n",
    "]\n",
    "unknown_templates.sum()"
   ]
  },
  {
   "cell_type": "code",
   "execution_count": null,
   "id": "439134ab",
   "metadata": {},
   "outputs": [],
   "source": [
    "unknown_templates.head(30)"
   ]
  },
  {
   "cell_type": "code",
   "execution_count": null,
   "id": "4ee2b550",
   "metadata": {},
   "outputs": [],
   "source": [
    "def to_specificity_type(values: pd.Series):\n",
    "    th = Specific.template_handler\n",
    "    to_representative = {\n",
    "        v: k for k, vs in th.get_names().items() for v in vs if isinstance(v, str)\n",
    "    }\n",
    "    patterns_to_representative = {\n",
    "        v: k\n",
    "        for k, vs in th.get_names().items()\n",
    "        for v in vs\n",
    "        if isinstance(v, re.Pattern)\n",
    "    }\n",
    "    types = {\n",
    "        representative: relation_type\n",
    "        for relation_type, representatives in th.get_relation_mapping().items()\n",
    "        for representative in representatives\n",
    "    }\n",
    "    ret = defaultdict(int)\n",
    "    for name, val in values.items():\n",
    "        if name == \"WIKILINK\":\n",
    "            continue\n",
    "        try:\n",
    "            t = to_representative[name]\n",
    "        except KeyError:\n",
    "            for p, t in patterns_to_representative.items():\n",
    "                if p.match(name):\n",
    "                    break\n",
    "            else:\n",
    "                t = \"\"\n",
    "        if t in types:\n",
    "            type_ = types[t]\n",
    "            if not type_:\n",
    "                spectype = \"plaintext_registered\"\n",
    "            elif type_.is_a(RelationType.ORIGIN):\n",
    "                spectype = \"origin\"\n",
    "            elif type_.is_a(RelationType.SIBLING):\n",
    "                spectype = \"sibling\"\n",
    "            else:\n",
    "                spectype = \"related\"\n",
    "        else:\n",
    "            spectype = \"unknown_template\"\n",
    "        ret[spectype] += val\n",
    "    return pd.Series(ret, name=values.name)"
   ]
  },
  {
   "cell_type": "code",
   "execution_count": null,
   "id": "bc1b0ad3",
   "metadata": {},
   "outputs": [],
   "source": [
    "relations = to_specificity_type(df[\"count\"]).sort_values(ascending=False)"
   ]
  },
  {
   "cell_type": "code",
   "execution_count": null,
   "id": "bf805642",
   "metadata": {},
   "outputs": [],
   "source": [
    "rd = pd.concat([relations, relations / relations.sum()], axis=1)\n",
    "rd.columns = [\"count\", \"ratio\"]\n",
    "rd"
   ]
  },
  {
   "cell_type": "code",
   "execution_count": null,
   "id": "1ef16280",
   "metadata": {},
   "outputs": [],
   "source": [
    "def count_etymology_section_types(wiktionary):\n",
    "    ret = {\n",
    "        k: []\n",
    "        for k in [\n",
    "            \"origin\",\n",
    "            \"sibling\",\n",
    "            \"related\",\n",
    "            \"stub\",\n",
    "            \"empty\",\n",
    "            \"unhandled\",\n",
    "            \"no_templates\",\n",
    "        ]\n",
    "    }\n",
    "    for _, text, ctx in tqdm(\n",
    "        wiktionary.sections(consts.ETYMOLOGY_SECTION), total=1.67 * 10**6\n",
    "    ):\n",
    "        key = ctx[\"title\"], ctx[\"language\"]\n",
    "        if not strip_etymology_header(text).strip():\n",
    "            ret[\"empty\"].append(key)\n",
    "        else:\n",
    "            templates = wtp.parse(text).templates\n",
    "            if not templates:\n",
    "                ret[\"no_templates\"].append((key, text))\n",
    "            else:\n",
    "                c = {k: 0 for k in spec_types}\n",
    "                for template in templates:\n",
    "                    spec_type = template_spec_type(template)\n",
    "                    c[spec_type] += 1\n",
    "                    if spec_type == \"origin\":\n",
    "                        break\n",
    "                for spec_type in spec_types:\n",
    "                    if c[spec_type] > 0:\n",
    "                        ret[spec_type].append((key, text))\n",
    "                        break\n",
    "    return ret"
   ]
  },
  {
   "cell_type": "code",
   "execution_count": null,
   "id": "16802ae7",
   "metadata": {},
   "outputs": [],
   "source": [
    "by_type = cached(\n",
    "    lambda: count_etymology_section_types(enw), DATA_PATH / \"etymology_sections.pickle\"\n",
    ")"
   ]
  },
  {
   "cell_type": "code",
   "execution_count": null,
   "id": "81a46a24",
   "metadata": {},
   "outputs": [],
   "source": [
    "for k in (\"sibling\", \"related\", \"unhandled\", \"no_templates\"):\n",
    "    with open(DATA_PATH / f\"by_type_{k}.txt\", \"w\") as dest:\n",
    "        for key, section in by_type[k]:\n",
    "            dest.write(f\"{key[0]} {key[1]}\\n\")\n",
    "            dest.write(strip_etymology_header(section).strip())\n",
    "            dest.write(\"\\n\\n\")"
   ]
  },
  {
   "cell_type": "code",
   "execution_count": null,
   "id": "b003f22d",
   "metadata": {},
   "outputs": [],
   "source": [
    "total = sum(len(v) for v in by_type.values())\n",
    "\n",
    "{k: (len(v), 100 * len(v) / total) for k, v in by_type.items()}, total"
   ]
  },
  {
   "cell_type": "code",
   "execution_count": null,
   "id": "fc3520fd",
   "metadata": {},
   "outputs": [],
   "source": [
    "def count_unknown_templates():\n",
    "    c = Counter()\n",
    "    for cat in [\"related\", \"unhandled\"]:\n",
    "        for key, section in by_type[cat]:\n",
    "            for t in wtp.parse(section).templates:\n",
    "                c[t.name.strip()] += 1\n",
    "    return c"
   ]
  },
  {
   "cell_type": "code",
   "execution_count": null,
   "id": "419842c2",
   "metadata": {},
   "outputs": [],
   "source": [
    "unknown_templates = count_unknown_templates()"
   ]
  },
  {
   "cell_type": "code",
   "execution_count": null,
   "id": "64463109",
   "metadata": {},
   "outputs": [],
   "source": [
    "unknown_templates.most_common()"
   ]
  }
 ],
 "metadata": {
  "kernelspec": {
   "display_name": "Python 3 (ipykernel)",
   "language": "python",
   "name": "python3"
  },
  "language_info": {
   "codemirror_mode": {
    "name": "ipython",
    "version": 3
   },
   "file_extension": ".py",
   "mimetype": "text/x-python",
   "name": "python",
   "nbconvert_exporter": "python",
   "pygments_lexer": "ipython3",
   "version": "3.9.0"
  }
 },
 "nbformat": 4,
 "nbformat_minor": 5
}
