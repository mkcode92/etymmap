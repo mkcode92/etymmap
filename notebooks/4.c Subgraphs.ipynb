{
 "cells": [
  {
   "cell_type": "markdown",
   "id": "848571e9",
   "metadata": {},
   "source": [
    "# Extraction - Subgraphs\n",
    "\n",
    "This notebook contains all subgraph analyses referred to in chapter 4 of the thesis\n",
    "\n",
    "It explores the graphs extracted from the 4 sections we consider in this project:\n",
    "Related Terms, Derived Terms, Descendants and Etymology sections.\n",
    "\n",
    "\n",
    "The following questions are answered:\n",
    "\n",
    "* how many nodes and relations are contained in each section subgraph?\n",
    "* how big is the redundancy within a section type?\n",
    "* how does transitive reduction affect the graph?\n",
    "* what are characteristics of the graph?\n",
    "* what is the difference between the baseline extraction for the descendants and the etymology sections?\n",
    "* what is the overlap between the subgraphs?\n",
    "* what are the characteristics of the combined graph?"
   ]
  },
  {
   "cell_type": "code",
   "execution_count": null,
   "id": "7706c41e",
   "metadata": {},
   "outputs": [],
   "source": [
    "import logging\n",
    "\n",
    "logging.basicConfig(level=logging.DEBUG)\n",
    "logging.getLogger(\"MongoEntryStore\").setLevel(logging.INFO)\n",
    "logging.getLogger(\"matplotlib\").setLevel(logging.INFO)\n",
    "\n",
    "import re\n",
    "from collections import defaultdict, Counter\n",
    "import json\n",
    "import pickle\n",
    "from pathlib import Path\n",
    "import csv\n",
    "\n",
    "import numpy as np\n",
    "import matplotlib.pyplot as plt\n",
    "import pandas as pd\n",
    "import networkx as nx\n",
    "import wikitextparser as wtp\n",
    "from tqdm import tqdm\n",
    "\n",
    "\n",
    "import etymmap.specific_en\n",
    "\n",
    "etymmap.specific_en.configure()\n",
    "\n",
    "from etymmap.specific_en import consts\n",
    "\n",
    "from etymmap.wiktionary import Wiktionary, MongoEntryStore\n",
    "\n",
    "import etymmap.extraction\n",
    "from etymmap.extraction.state import NoFuzzyGlossMatcher, State\n",
    "from etymmap.utils import nonoverlapping\n",
    "from etymmap.extraction.rules import to_sequence\n",
    "from etymmap.extraction import (\n",
    "    RelatedTermsExtractor,\n",
    "    DerivedTermsExtractor,\n",
    "    BaselineExtractor,\n",
    "    DescendantsSectionExtractor,\n",
    "    EtymologySectionExtractor,\n",
    ")\n",
    "\n",
    "from utils.subgraph_analysis import *\n",
    "\n",
    "DATA_PATH = Path(\"./data/enwiktionary-20220601-pages-meta-current\")\n",
    "mongo_config = {\n",
    "    \"address\": \"mongodb://localhost:27017\",\n",
    "    \"dbname\": \"enwiktionary\",\n",
    "    \"collection\": \"20220601\",\n",
    "}\n",
    "\n",
    "\n",
    "enw = Wiktionary(MongoEntryStore.from_config(mongo_config), default_namespaces=(0, 118))\n",
    "etymmap.extraction.init_and_configure(\n",
    "    enw, gloss_matcher=NoFuzzyGlossMatcher(), cache=DATA_PATH / \"lexicon.pickle\"\n",
    ")"
   ]
  },
  {
   "cell_type": "markdown",
   "id": "43b366b3",
   "metadata": {},
   "source": [
    "# Related terms"
   ]
  },
  {
   "cell_type": "code",
   "execution_count": null,
   "id": "24d8ba6f",
   "metadata": {},
   "outputs": [],
   "source": [
    "# Related Terms, only Template and Link Extraction\n",
    "related_relations = apply_extractor(\n",
    "    RelatedTermsExtractor(), progress=True\n",
    ").relation_store\n",
    "related_graph = related_relations.finalize()\n",
    "nx.write_gpickle(related_graph, DATA_PATH / \"related.graph\")\n",
    "# Reduction types\n",
    "related_relations.reduction_listener.counts()"
   ]
  },
  {
   "cell_type": "code",
   "execution_count": null,
   "id": "48eee66f",
   "metadata": {},
   "outputs": [],
   "source": [
    "# redundant edges / all edges\n",
    "redundancy(related_graph, related_relations.reduction_listener)"
   ]
  },
  {
   "cell_type": "code",
   "execution_count": null,
   "id": "d62c10c9",
   "metadata": {},
   "outputs": [],
   "source": [
    "# if already calculated: \n",
    "related_graph = nx.read_gpickle(DATA_PATH / \"related.graph\")"
   ]
  },
  {
   "cell_type": "code",
   "execution_count": null,
   "id": "3369a6d1",
   "metadata": {},
   "outputs": [],
   "source": [
    "# Basic stats\n",
    "stats, csizes, components = describe(related_graph)\n",
    "stats"
   ]
  },
  {
   "cell_type": "code",
   "execution_count": null,
   "id": "cfc1733c",
   "metadata": {},
   "outputs": [],
   "source": [
    "# number of componenents\n",
    "len(csizes)"
   ]
  },
  {
   "cell_type": "code",
   "execution_count": null,
   "id": "6c12bfbe",
   "metadata": {},
   "outputs": [],
   "source": [
    "# component size -> number of nodes in component(s) of this size\n",
    "show_component_sizes(csizes)"
   ]
  },
  {
   "cell_type": "code",
   "execution_count": null,
   "id": "61fbcf01",
   "metadata": {},
   "outputs": [],
   "source": [
    "# Biggest component\n",
    "show_languages_in_component(components[0])"
   ]
  },
  {
   "cell_type": "code",
   "execution_count": null,
   "id": "d9596ace",
   "metadata": {},
   "outputs": [],
   "source": [
    "# second biggest\n",
    "show_languages_in_component(components[1])"
   ]
  },
  {
   "cell_type": "code",
   "execution_count": null,
   "id": "c8758ec6",
   "metadata": {},
   "outputs": [],
   "source": [
    "# third biggest\n",
    "show_languages_in_component(components[2])"
   ]
  },
  {
   "cell_type": "code",
   "execution_count": null,
   "id": "9464b59c",
   "metadata": {},
   "outputs": [],
   "source": [
    "# contribution of biggest components\n",
    "s = pd.Series(csizes).sort_values(ascending=False)\n",
    "df = pd.concat([s, s / s.sum()], axis=1).head(10)\n",
    "df.columns = [\"component size\", \"ratio of graph\"]"
   ]
  },
  {
   "cell_type": "code",
   "execution_count": null,
   "id": "56c2ff02",
   "metadata": {},
   "outputs": [],
   "source": [
    "# most common languages\n",
    "related_langs = language_counts(related_graph)\n",
    "related_langs.head(25)"
   ]
  },
  {
   "cell_type": "code",
   "execution_count": null,
   "id": "f9268908",
   "metadata": {},
   "outputs": [],
   "source": [
    "# in-out-degrees\n",
    "related_degrees, related_degree_grid = in_out_degree_grid(related_graph)"
   ]
  },
  {
   "cell_type": "code",
   "execution_count": null,
   "id": "7d874ff4",
   "metadata": {},
   "outputs": [],
   "source": [
    "# undirected degrees, as there are no (semantically) directed relations\n",
    "s = pd.Series(related_degrees)\n",
    "undirected = pd.DataFrame.from_records(s).sum(axis=1)\n",
    "undirected.index = s.index\n",
    "undirected.sort_values(ascending=False).head(25)"
   ]
  },
  {
   "cell_type": "code",
   "execution_count": null,
   "id": "f0dcf440",
   "metadata": {},
   "outputs": [],
   "source": [
    "# which ratio of nodes are branching?\n",
    "(undirected > 2).sum() / len(undirected)"
   ]
  },
  {
   "cell_type": "markdown",
   "id": "23fa604a",
   "metadata": {},
   "source": [
    "# Derived Relations"
   ]
  },
  {
   "cell_type": "code",
   "execution_count": null,
   "id": "b186378a",
   "metadata": {},
   "outputs": [],
   "source": [
    "# Derived Relations, only Template and Link extraction\n",
    "derived_relations = apply_extractor(\n",
    "    DerivedTermsExtractor(), progress=True\n",
    ").relation_store\n",
    "derived_graph = derived_relations.finalize()\n",
    "nx.write_gpickle(derived_graph, DATA_PATH / \"derived.graph\")\n",
    "# Reduction types\n",
    "derived_relations.reduction_listener.counts()"
   ]
  },
  {
   "cell_type": "code",
   "execution_count": null,
   "id": "cd09ee17",
   "metadata": {},
   "outputs": [],
   "source": [
    "# redundant edges / all edges\n",
    "redundancy(derived_graph, derived_relations.reduction_listener)"
   ]
  },
  {
   "cell_type": "code",
   "execution_count": null,
   "id": "500f3689",
   "metadata": {},
   "outputs": [],
   "source": [
    "# if already calculated:\n",
    "# derived_graph = nx.read_gpickle(DATA_PATH / \"derived.graph\")"
   ]
  },
  {
   "cell_type": "code",
   "execution_count": null,
   "id": "2387374c",
   "metadata": {},
   "outputs": [],
   "source": [
    "# Basic stats\n",
    "stats, csize, components = describe(derived_graph)\n",
    "stats"
   ]
  },
  {
   "cell_type": "code",
   "execution_count": null,
   "id": "eae9c3d5",
   "metadata": {},
   "outputs": [],
   "source": [
    "# component size -> number of nodes in component(s) of this size\n",
    "show_component_sizes(csize)"
   ]
  },
  {
   "cell_type": "code",
   "execution_count": null,
   "id": "40ac15fe",
   "metadata": {},
   "outputs": [],
   "source": [
    "# Languages in biggest component\n",
    "show_languages_in_component(components[0])"
   ]
  },
  {
   "cell_type": "code",
   "execution_count": null,
   "id": "f0cee079",
   "metadata": {},
   "outputs": [],
   "source": [
    "# Second biggest component\n",
    "show_languages_in_component(components[1])"
   ]
  },
  {
   "cell_type": "code",
   "execution_count": null,
   "id": "08a6102d",
   "metadata": {},
   "outputs": [],
   "source": [
    "# contribution of biggest components\n",
    "print([len(components[i]) for i in range(3)])\n",
    "print([len(components[i]) / len(derived_graph.nodes) for i in range(3)])"
   ]
  },
  {
   "cell_type": "code",
   "execution_count": null,
   "id": "caa90b17",
   "metadata": {},
   "outputs": [],
   "source": [
    "# most common languages in derived terms\n",
    "derived_langs = language_counts(derived_graph)\n",
    "derived_langs.head(25)"
   ]
  },
  {
   "cell_type": "code",
   "execution_count": null,
   "id": "469b047d",
   "metadata": {},
   "outputs": [],
   "source": [
    "# undirected degrees, as there are no (semantically) directed relations\n",
    "derived_degrees, grid = in_out_degree_grid(derived_graph)\n",
    "s = pd.Series(derived_degrees)\n",
    "undirected = pd.DataFrame.from_records(s).sum(axis=1)\n",
    "undirected.index = s.index\n",
    "undirected.sort_values(ascending=False).head(25)"
   ]
  },
  {
   "cell_type": "code",
   "execution_count": null,
   "id": "03be3e6a",
   "metadata": {},
   "outputs": [],
   "source": [
    "# which ratio of nodes are branching?\n",
    "(undirected > 2).sum() / len(undirected)"
   ]
  },
  {
   "cell_type": "markdown",
   "id": "3664baa7",
   "metadata": {},
   "source": [
    "# Descendants Baseline"
   ]
  },
  {
   "cell_type": "code",
   "execution_count": null,
   "id": "6c527fd0",
   "metadata": {},
   "outputs": [],
   "source": [
    "# Descendants, only Template extraction\n",
    "descendants_base_extractor = BaselineExtractor(consts.DESCENDANTS)\n",
    "descendants_base_relations = apply_extractor(\n",
    "    descendants_base_extractor, progress=True\n",
    ").relation_store\n",
    "print(descendants_base_relations.reduction_listener.counts())\n",
    "descendants_base_graph = descendants_base_relations.finalize()\n",
    "nx.write_gpickle(descendants_base_graph, DATA_PATH / \"descendants_base.graph\")\n",
    "# Reduction types\n",
    "descendants_base_relations.reduction_listener.counts()"
   ]
  },
  {
   "cell_type": "code",
   "execution_count": null,
   "id": "6ed488af",
   "metadata": {},
   "outputs": [],
   "source": [
    "redundancy(descendants_base_graph, descendants_base_relations.reduction_listener)"
   ]
  },
  {
   "cell_type": "code",
   "execution_count": null,
   "id": "bec0dcec",
   "metadata": {},
   "outputs": [],
   "source": [
    "# if already calculated:\n",
    "# descendants_base_graph = nx.read_gpickle(DATA_PATH / \"descendants_base.graph\")"
   ]
  },
  {
   "cell_type": "code",
   "execution_count": null,
   "id": "929de32b",
   "metadata": {},
   "outputs": [],
   "source": [
    "stats, csize, comps = describe(descendants_base_graph)"
   ]
  },
  {
   "cell_type": "code",
   "execution_count": null,
   "id": "073bf716",
   "metadata": {},
   "outputs": [],
   "source": [
    "stats"
   ]
  },
  {
   "cell_type": "code",
   "execution_count": null,
   "id": "b38056a5",
   "metadata": {},
   "outputs": [],
   "source": [
    "show_component_sizes(csize)"
   ]
  },
  {
   "cell_type": "code",
   "execution_count": null,
   "id": "9bdf034f",
   "metadata": {},
   "outputs": [],
   "source": [
    "language_counts(descendants_base_graph).head(25)"
   ]
  },
  {
   "cell_type": "markdown",
   "id": "077b35e3",
   "metadata": {},
   "source": [
    "# Descendants (nested)"
   ]
  },
  {
   "cell_type": "code",
   "execution_count": null,
   "id": "08d805f3",
   "metadata": {},
   "outputs": [],
   "source": [
    "# Descendants, with analysis of nested item structure and adjust of edge direction\n",
    "descendants_relations = apply_extractor(DescendantsSectionExtractor(), progress=True, swap_historic_languages=True).relation_store\n",
    "print(descendants_relations.reduction_listener.counts())\n",
    "descendants_graph = descendants_relations.finalize()\n",
    "nx.write_gpickle(descendants_graph, DATA_PATH / \"descendants.graph\")\n",
    "descendants_relations.reduction_listener.counts()"
   ]
  },
  {
   "cell_type": "code",
   "execution_count": null,
   "id": "cfb7e700",
   "metadata": {},
   "outputs": [],
   "source": [
    "# which relation types cause conflicts?\n",
    "rl = descendants_relations.reduction_listener\n",
    "rl.events[rl.Event.INCOMPATIBLE]"
   ]
  },
  {
   "cell_type": "code",
   "execution_count": null,
   "id": "84a11f88",
   "metadata": {},
   "outputs": [],
   "source": [
    "redundancy(descendants_graph, descendants_relations.reduction_listener)"
   ]
  },
  {
   "cell_type": "code",
   "execution_count": null,
   "id": "1a5c587b",
   "metadata": {},
   "outputs": [],
   "source": [
    "# if already calculated:\n",
    "# descendants_graph = nx.read_gpickle(DATA_PATH / \"descendants.graph\")"
   ]
  },
  {
   "cell_type": "code",
   "execution_count": null,
   "id": "b6fc9650",
   "metadata": {},
   "outputs": [],
   "source": [
    "stats, csizes, comps = describe(descendants_graph)"
   ]
  },
  {
   "cell_type": "code",
   "execution_count": null,
   "id": "dc45754f",
   "metadata": {},
   "outputs": [],
   "source": [
    "stats"
   ]
  },
  {
   "cell_type": "code",
   "execution_count": null,
   "id": "e433ceb0",
   "metadata": {},
   "outputs": [],
   "source": [
    "show_component_sizes(csizes)"
   ]
  },
  {
   "cell_type": "code",
   "execution_count": null,
   "id": "caa8b010",
   "metadata": {},
   "outputs": [],
   "source": [
    "# biggest component\n",
    "show_languages_in_component(comps[0])"
   ]
  },
  {
   "cell_type": "code",
   "execution_count": null,
   "id": "fbaaf842",
   "metadata": {},
   "outputs": [],
   "source": [
    "# second biggest component\n",
    "show_languages_in_component(comps[1])"
   ]
  },
  {
   "cell_type": "markdown",
   "id": "b962df1c",
   "metadata": {},
   "source": [
    "# Compare Descendants Baseline with improved"
   ]
  },
  {
   "cell_type": "code",
   "execution_count": null,
   "id": "45f9fea0",
   "metadata": {},
   "outputs": [],
   "source": [
    "# load precomputed graphs\n",
    "descendants_base_graph = nx.read_gpickle(DATA_PATH / \"descendants_base.graph\")\n",
    "descendants_graph = nx.read_gpickle(DATA_PATH / \"descendants.graph\")"
   ]
  },
  {
   "cell_type": "code",
   "execution_count": null,
   "id": "2a758086",
   "metadata": {},
   "outputs": [],
   "source": [
    "# Overlap\n",
    "df, nodes = get_overlap(descendants_base_graph, descendants_graph)\n",
    "df"
   ]
  },
  {
   "cell_type": "markdown",
   "id": "1278743b",
   "metadata": {},
   "source": [
    "## Compare the node degrees"
   ]
  },
  {
   "cell_type": "code",
   "execution_count": null,
   "id": "e52923e7",
   "metadata": {},
   "outputs": [],
   "source": [
    "degrees_base, in_out_grid_base = in_out_degree_grid(descendants_base_graph)\n",
    "degrees_nested, in_out_grid_nested = in_out_degree_grid(descendants_graph)"
   ]
  },
  {
   "cell_type": "code",
   "execution_count": null,
   "id": "b4e4e276",
   "metadata": {},
   "outputs": [],
   "source": [
    "# track most common node degree changes\n",
    "common_nodes = set(degrees_base).intersection(degrees_nested)\n",
    "degrees_change = Counter()\n",
    "for node in common_nodes:\n",
    "    base = degrees_base[node]\n",
    "    nested = degrees_nested[node]\n",
    "    if base != nested:\n",
    "        degrees_change[(base, nested)] += 1\n",
    "degrees_change.most_common(n=10)"
   ]
  },
  {
   "cell_type": "code",
   "execution_count": null,
   "id": "030eb3f0",
   "metadata": {},
   "outputs": [],
   "source": [
    "# nodes that did not have successors in base but have successors in improved\n",
    "sum(\n",
    "    count\n",
    "    for ((base_in, base_out), (nested_in, nested_out)), count in degrees_change.items()\n",
    "    if base_out == 0 and nested_out != 0\n",
    ")"
   ]
  },
  {
   "cell_type": "code",
   "execution_count": null,
   "id": "ebf1a91d",
   "metadata": {},
   "outputs": [],
   "source": [
    "# compare shortest path statistics: bigger values should correspond to longer chains\n",
    "desc_sp_base = shortest_paths(descendants_base_graph)\n",
    "desc_sp = shortest_paths(descendants_graph)\n",
    "desc_sp.mean(), desc_sp_base.mean()"
   ]
  },
  {
   "cell_type": "code",
   "execution_count": null,
   "id": "928006e7",
   "metadata": {},
   "outputs": [],
   "source": [
    "# ratio\n",
    "desc_sp[\"avg_shortest_path\"].mean() / desc_sp_base[\"avg_shortest_path\"].mean()"
   ]
  },
  {
   "cell_type": "code",
   "execution_count": null,
   "id": "49f12998",
   "metadata": {},
   "outputs": [],
   "source": [
    "# for how many nodes did the value grow / shrink?\n",
    "diff = desc_sp.set_index(\"node\") - desc_sp_base.set_index(\"node\")\n",
    "(diff[\"avg_shortest_path\"] < 0).sum(), (diff[\"avg_shortest_path\"] > 0).sum()"
   ]
  },
  {
   "cell_type": "markdown",
   "id": "2e3ec984",
   "metadata": {},
   "source": [
    "# Etymology Baseline"
   ]
  },
  {
   "cell_type": "code",
   "execution_count": null,
   "id": "6ed899db",
   "metadata": {},
   "outputs": [],
   "source": [
    "# Etymology, only Template extraction\n",
    "etymology_base_extractor = BaselineExtractor(consts.ETYMOLOGY_SECTION)\n",
    "etymology_base_relations = apply_extractor(etymology_base_extractor, progress=True).relation_store\n",
    "print(etymology_base_relations.reduction_listener.counts())\n",
    "etymology_base_graph = etymology_base_relations.finalize()\n",
    "nx.write_gpickle(etymology_base_graph, DATA_PATH / \"etymology_base.graph\")\n",
    "etymology_base_relations.reduction_listener.counts()"
   ]
  },
  {
   "cell_type": "code",
   "execution_count": null,
   "id": "fd388310",
   "metadata": {},
   "outputs": [],
   "source": [
    "redundancy(graph, etymology_base_relations.reduction_listener)"
   ]
  },
  {
   "cell_type": "code",
   "execution_count": null,
   "id": "95afe34a",
   "metadata": {},
   "outputs": [],
   "source": [
    "# if already computed\n",
    "# etymology_base_graph = nx.read_gpickle(DATA_PATH / \"etymology_base.graph\")"
   ]
  },
  {
   "cell_type": "code",
   "execution_count": null,
   "id": "214c9dbf",
   "metadata": {},
   "outputs": [],
   "source": [
    "stats, csizes, comps = describe(etymology_base_graph)"
   ]
  },
  {
   "cell_type": "code",
   "execution_count": null,
   "id": "de3017c7",
   "metadata": {},
   "outputs": [],
   "source": [
    "stats"
   ]
  },
  {
   "cell_type": "code",
   "execution_count": null,
   "id": "0ee779bb",
   "metadata": {},
   "outputs": [],
   "source": [
    "sorted(csizes, reverse=True)[:10]"
   ]
  },
  {
   "cell_type": "markdown",
   "id": "bb5276ef",
   "metadata": {},
   "source": [
    "# Etymology Extractor (+)"
   ]
  },
  {
   "cell_type": "code",
   "execution_count": null,
   "id": "531d8a76",
   "metadata": {},
   "outputs": [],
   "source": [
    "# Etymology, additionally with chain resolution and rule mechanism\n",
    "etymology_extractor = EtymologySectionExtractor(chain_resolution=True)\n",
    "etymology_relations = apply_extractor(etymology_extractor, progress=True, swap_historic_languages=True)"
   ]
  },
  {
   "cell_type": "code",
   "execution_count": null,
   "id": "3d0b92b0",
   "metadata": {},
   "outputs": [],
   "source": [
    "# how often could chain resolution be applied (or not)\n",
    "chain_links, containing_lexeme_links = etymology_extractor.chain_resolution_counter\n",
    "chain_links, containing_lexeme_links, chain_links / (chain_links + containing_lexeme_links)"
   ]
  },
  {
   "cell_type": "code",
   "execution_count": null,
   "id": "928274ac",
   "metadata": {},
   "outputs": [],
   "source": [
    "# how often was each rule applied (before reduction)\n",
    "etymology_extractor.rules.counts"
   ]
  },
  {
   "cell_type": "code",
   "execution_count": null,
   "id": "3b9008e9",
   "metadata": {},
   "outputs": [],
   "source": [
    "# Reduction and Redundancy\n",
    "print(etymology_relations.relation_store.reduction_listener.counts())\n",
    "redundancy(graph, etymology_relations.relation_store.reduction_listener)"
   ]
  },
  {
   "cell_type": "code",
   "execution_count": null,
   "id": "3535e657",
   "metadata": {},
   "outputs": [],
   "source": [
    "# final graph\n",
    "etymology_plus = etymology_relations.relation_store.finalize(rm_cycles_inplace=True)\n",
    "etymology_relations.relation_store.reduction_listener.counts()"
   ]
  },
  {
   "cell_type": "code",
   "execution_count": null,
   "id": "8a7adfba",
   "metadata": {},
   "outputs": [],
   "source": [
    "nx.write_gpickle(graph, DATA_PATH / \"etymology.graph\")"
   ]
  },
  {
   "cell_type": "code",
   "execution_count": null,
   "id": "cde9c3f6",
   "metadata": {},
   "outputs": [],
   "source": [
    "# if already computed\n",
    "# etymology_plus = nx.read_gpickle(DATA_PATH / \"etymology.graph\")"
   ]
  },
  {
   "cell_type": "code",
   "execution_count": null,
   "id": "a93d03ff",
   "metadata": {},
   "outputs": [],
   "source": [
    "stats, csizes, comps = describe(etymology_plus)"
   ]
  },
  {
   "cell_type": "code",
   "execution_count": null,
   "id": "5ff2c372",
   "metadata": {},
   "outputs": [],
   "source": [
    "stats"
   ]
  },
  {
   "cell_type": "code",
   "execution_count": null,
   "id": "b152ed70",
   "metadata": {},
   "outputs": [],
   "source": [
    "# component size -> number of nodes in components of this size\n",
    "show_component_sizes(csizes, bins=np.logspace(0, 6.5, 25))"
   ]
  },
  {
   "cell_type": "code",
   "execution_count": null,
   "id": "c331e1bd",
   "metadata": {},
   "outputs": [],
   "source": [
    "# biggest component\n",
    "show_languages_in_component(comps[0])"
   ]
  },
  {
   "cell_type": "code",
   "execution_count": null,
   "id": "37c07a78",
   "metadata": {},
   "outputs": [],
   "source": [
    "# second biggest component\n",
    "show_languages_in_component(comps[1])"
   ]
  },
  {
   "cell_type": "code",
   "execution_count": null,
   "id": "1a9880d0",
   "metadata": {},
   "outputs": [],
   "source": [
    "# biggest components\n",
    "sorted(csizes, reverse=True)[:5]"
   ]
  },
  {
   "cell_type": "code",
   "execution_count": null,
   "id": "1b707dfd",
   "metadata": {},
   "outputs": [],
   "source": [
    "# number of small components\n",
    "sum(1 for s in csizes if s < 10)"
   ]
  },
  {
   "cell_type": "markdown",
   "id": "9cacaa78",
   "metadata": {},
   "source": [
    "# Compare Etymology Baseline and Etymology (+)"
   ]
  },
  {
   "cell_type": "code",
   "execution_count": null,
   "id": "19cb186b",
   "metadata": {},
   "outputs": [],
   "source": [
    "# Load precomputed graphs\n",
    "etymology_base = nx.read_gpickle(DATA_PATH / \"etymology_base.graph\")\n",
    "etymology_plus = nx.read_gpickle(DATA_PATH / \"etymology.graph\")"
   ]
  },
  {
   "cell_type": "code",
   "execution_count": null,
   "id": "cad43a5b",
   "metadata": {},
   "outputs": [],
   "source": [
    "# Intersections of subgraphs\n",
    "overlap, examples = get_overlap(etymology_base, etymology_plus)\n",
    "overlap"
   ]
  },
  {
   "cell_type": "code",
   "execution_count": null,
   "id": "69d125c5",
   "metadata": {},
   "outputs": [],
   "source": [
    "# Compare the types: difference plus to baseline\n",
    "base_types = pd.Series(Counter(e[2].name for e in etymology_base.edges))\n",
    "plus_types = pd.Series(Counter(e[2].name for e in etymology_plus.edges))\n",
    "plus_types.sub(base_types, fill_value=0).astype(int).sort_values(ascending=False)"
   ]
  },
  {
   "cell_type": "code",
   "execution_count": null,
   "id": "62b7278a",
   "metadata": {},
   "outputs": [],
   "source": [
    "# Average shortest paths (sampled)\n",
    "etym_shortest_paths_base = shortest_paths(etymology_base, frac=0.01)\n",
    "etym_shortest_paths_plus = shortest_paths(etymology_plus, frac=0.01)\n",
    "etym_shortest_paths_base.mean(), etym_shortest_paths_plus.mean()"
   ]
  },
  {
   "cell_type": "code",
   "execution_count": null,
   "id": "62b91ee3",
   "metadata": {},
   "outputs": [],
   "source": [
    "# degrees\n",
    "degrees_base, in_out_grid_base = in_out_degree_grid(etymology_base)\n",
    "degrees_plus, in_out_grid_plus = in_out_degree_grid(etymology_plus)"
   ]
  },
  {
   "cell_type": "code",
   "execution_count": null,
   "id": "86cfbe7b",
   "metadata": {},
   "outputs": [],
   "source": [
    "# most common degree changes\n",
    "common_nodes = set(degrees_base).intersection(degrees_plus)\n",
    "degrees_change = Counter()\n",
    "for node in common_nodes:\n",
    "    base = degrees_base[node]\n",
    "    plus = degrees_plus[node]\n",
    "    if base != plus:\n",
    "        degrees_change[(base, plus)] += 1\n",
    "degrees_change.most_common()"
   ]
  },
  {
   "cell_type": "code",
   "execution_count": null,
   "id": "18d681d4",
   "metadata": {},
   "outputs": [],
   "source": [
    "# degree changes in the grid\n",
    "in_out_compare = (in_out_grid_plus - in_out_grid_base).fillna(0).astype(int)\n",
    "in_out_compare.sort_index().iloc[:10, :10]"
   ]
  },
  {
   "cell_type": "markdown",
   "id": "3dc2471d",
   "metadata": {},
   "source": [
    "## Etymology and Descendants"
   ]
  },
  {
   "cell_type": "code",
   "execution_count": null,
   "id": "7a8ab44d",
   "metadata": {},
   "outputs": [],
   "source": [
    "# Etymology and Descendants\n",
    "\n",
    "etymology_plus = nx.read_gpickle(\"etymology.graph\")\n",
    "descendants_graph = nx.read_gpickle(DATA_PATH / \"descendants.graph\")"
   ]
  },
  {
   "cell_type": "code",
   "execution_count": null,
   "id": "1a83ed93",
   "metadata": {},
   "outputs": [],
   "source": [
    "overlap, examples = get_overlap(etymology_plus, descendants_graph)\n",
    "overlap"
   ]
  },
  {
   "cell_type": "code",
   "execution_count": null,
   "id": "a78c031e",
   "metadata": {},
   "outputs": [],
   "source": [
    "# ratio of exclusive descendants nodes  / edges\n",
    "overlap.loc[\"only_right\", \"nodes\"] / descendants_graph.number_of_nodes(), \\\n",
    "overlap.loc[\"only_right\", \"edges\"] / descendants_graph.number_of_edges()"
   ]
  },
  {
   "cell_type": "markdown",
   "id": "09f082e5",
   "metadata": {},
   "source": [
    "# Combine all extractors "
   ]
  },
  {
   "cell_type": "code",
   "execution_count": null,
   "id": "d5c9a8cf",
   "metadata": {},
   "outputs": [],
   "source": [
    "all_relations = apply_extractor(\n",
    "    RelatedTermsExtractor(),\n",
    "    DerivedTermsExtractor(),\n",
    "    DescendantsSectionExtractor(),\n",
    "    EtymologySectionExtractor(),\n",
    "    swap_historic_languages=True,\n",
    "    progress=True,\n",
    ").relation_store"
   ]
  },
  {
   "cell_type": "code",
   "execution_count": null,
   "id": "6742c063",
   "metadata": {},
   "outputs": [],
   "source": [
    "print(all_relations.reduction_listener.counts())\n",
    "graph = all_relations.finalize()\n",
    "nx.write_gpickle(graph, DATA_PATH / \"complete.graph\")\n",
    "all_relations.reduction_listener.counts()"
   ]
  },
  {
   "cell_type": "code",
   "execution_count": null,
   "id": "921f8cd7",
   "metadata": {},
   "outputs": [],
   "source": [
    "redundancy(graph, all_relations.reduction_listener)"
   ]
  },
  {
   "cell_type": "code",
   "execution_count": null,
   "id": "aecf963f",
   "metadata": {},
   "outputs": [],
   "source": [
    "# if already computed\n",
    "# graph = nx.read_gpickle(DATA_PATH / \"complete.graph\")"
   ]
  },
  {
   "cell_type": "code",
   "execution_count": null,
   "id": "deaae8c8",
   "metadata": {},
   "outputs": [],
   "source": [
    "stats, csizes, comps = describe(graph)"
   ]
  },
  {
   "cell_type": "code",
   "execution_count": null,
   "id": "b4448a03",
   "metadata": {},
   "outputs": [],
   "source": [
    "stats"
   ]
  },
  {
   "cell_type": "code",
   "execution_count": null,
   "id": "4d52fd86",
   "metadata": {},
   "outputs": [],
   "source": [
    "# ratio of biggest components\n",
    "[s / graph.number_of_nodes() for s in sorted(csizes, reverse=True)][:10]"
   ]
  },
  {
   "cell_type": "code",
   "execution_count": null,
   "id": "80ebafca",
   "metadata": {},
   "outputs": [],
   "source": [
    "# Count node types\n",
    "node_types = pd.Series(Counter(type(n) for n in graph.nodes))\n",
    "node_types"
   ]
  },
  {
   "cell_type": "code",
   "execution_count": null,
   "id": "df392aab",
   "metadata": {},
   "outputs": [],
   "source": [
    "# node types, relative\n",
    "node_types / node_types.sum()"
   ]
  },
  {
   "cell_type": "code",
   "execution_count": null,
   "id": "d1c0cb28",
   "metadata": {},
   "outputs": [],
   "source": [
    "# How much of the lexicon is part of the graph?\n",
    "def lexical_nodes():\n",
    "    for by_term in State.lexicon.single_meanings.values():\n",
    "        if isinstance(by_term, list):\n",
    "            yield from by_term\n",
    "        else:\n",
    "            yield by_term\n",
    "    for by_term in State.lexicon.multi_meanings.values():\n",
    "        for by_lang in by_term.values():\n",
    "            yield from by_lang\n",
    "\n",
    "all_nodes = {node.id for node in graph.nodes}\n",
    "contained = not_contained = 0\n",
    "not_contained_examples = set()\n",
    "for node in lexical_nodes():\n",
    "    if node.id in all_nodes:\n",
    "        contained += 1\n",
    "    else:\n",
    "        not_contained += 1\n",
    "        if len(not_contained_examples) < 1000:\n",
    "            not_contained_examples.add(node)\n",
    "all_ = contained + not_contained\n",
    "contained, contained/all_, not_contained, all_"
   ]
  },
  {
   "cell_type": "code",
   "execution_count": null,
   "id": "79179a3c",
   "metadata": {},
   "outputs": [],
   "source": [
    "# That's not very much, how many entries do at all contain relevant sections?\n",
    "with_any_section = \\\n",
    "set((entry[\"title\"], entry[\"language\"]) for *_, entry in enw.sections(consts.ALL_ETYMOLOGY_SECTIONS))\n",
    "len(with_any_section)"
   ]
  },
  {
   "cell_type": "code",
   "execution_count": null,
   "id": "459bd6a6",
   "metadata": {},
   "outputs": [],
   "source": [
    "# Most common languages\n",
    "languages_in_graph = language_counts(graph)\n",
    "languages_in_graph.head(20)"
   ]
  },
  {
   "cell_type": "code",
   "execution_count": null,
   "id": "19594da8",
   "metadata": {},
   "outputs": [],
   "source": [
    "# degrees\n",
    "degrees, grid = in_out_degree_grid(graph)\n",
    "grid.loc[:10, :10]"
   ]
  },
  {
   "cell_type": "code",
   "execution_count": null,
   "id": "52666ff4",
   "metadata": {},
   "outputs": [],
   "source": [
    "# ratio of in-degrees\n",
    "(grid.sum(axis=1) / graph.number_of_nodes()).head(10)"
   ]
  },
  {
   "cell_type": "code",
   "execution_count": null,
   "id": "b36044ba",
   "metadata": {},
   "outputs": [],
   "source": [
    "# ratio of out-degrees\n",
    "(grid.sum() / graph.number_of_nodes()).head(10)"
   ]
  },
  {
   "cell_type": "code",
   "execution_count": null,
   "id": "6a722c31",
   "metadata": {},
   "outputs": [],
   "source": [
    "# as frame\n",
    "degrees = pd.Series(degrees)\n",
    "degrees_df = pd.DataFrame.from_records(degrees.values, columns=[\"in\", \"out\"])\n",
    "degrees_df.index = degrees.index\n",
    "degrees_df.mean()"
   ]
  },
  {
   "cell_type": "code",
   "execution_count": null,
   "id": "0127408b",
   "metadata": {},
   "outputs": [],
   "source": [
    "# highest in-degree nodes\n",
    "degrees_df.sort_values(\"in\", ascending=False).head(25)"
   ]
  },
  {
   "cell_type": "code",
   "execution_count": null,
   "id": "0db011c1",
   "metadata": {},
   "outputs": [],
   "source": [
    "# highest out-degree nodes\n",
    "degrees_df.sort_values(\"out\", ascending=False).head(25)"
   ]
  },
  {
   "cell_type": "markdown",
   "id": "e9509f58",
   "metadata": {},
   "source": [
    "## Page Rank"
   ]
  },
  {
   "cell_type": "code",
   "execution_count": null,
   "id": "f1879afc",
   "metadata": {},
   "outputs": [],
   "source": [
    "biggest_component = graph.subgraph(comps[0])\n",
    "# make undirected, then calculate page rank\n",
    "evc = nx.pagerank(nx.Graph(biggest_component), max_iter=1000)\n",
    "page_rank = pd.Series(evc).sort_values(ascending=False)\n",
    "page_rank.head(30)"
   ]
  },
  {
   "cell_type": "markdown",
   "id": "ded2f780",
   "metadata": {},
   "source": [
    "## Communities"
   ]
  },
  {
   "cell_type": "code",
   "execution_count": null,
   "id": "30a29830",
   "metadata": {},
   "outputs": [],
   "source": [
    "# Communities and between connections\n",
    "\n",
    "from networkx.algorithms.community import louvain_communities\n",
    "comms = louvain_communities(comp_graph, threshold=10**-6, resolution=0.0001)\n",
    "comm_sizes = pd.Series([len(c) for c in comms])\n",
    "comm_sizes.hist(bins=range(50))"
   ]
  },
  {
   "cell_type": "code",
   "execution_count": null,
   "id": "f03d1d27",
   "metadata": {},
   "outputs": [],
   "source": [
    "# select biggest communities and find nodes on which they have intra-community-connections\n",
    "biggest = [comms[i] for i in comm_sizes.sort_values(ascending=False).head(50).index]\n",
    "connecting_nodes = Counter()\n",
    "\n",
    "combinations = tqdm.tqdm(((sg, sg2) for i, sg in enumerate(biggest) for sg2 in biggest[i+1:]), total=sum(range(len(biggest))))\n",
    "for sg, sg2 in combinations:\n",
    "    for n in sg:\n",
    "        for n2 in sg2:\n",
    "            if graph.has_edge(n, n2) or graph.has_edge(n2, n):\n",
    "                connecting_nodes[n] += 1\n",
    "                connecting_nodes[n2] += 1\n",
    "pd.Series(connecting_nodes).sort_values(ascending=False).head(10)"
   ]
  },
  {
   "cell_type": "markdown",
   "id": "70c6cca7",
   "metadata": {},
   "source": [
    "## Nodes that connect many languages"
   ]
  },
  {
   "cell_type": "code",
   "execution_count": null,
   "id": "83b85bcf",
   "metadata": {},
   "outputs": [],
   "source": [
    "# could use bfs, but don't want to copy the graph to make it undirected\n",
    "def nodes_in_radius2(graph, node):\n",
    "    s, s2 = set(), set()\n",
    "    s.update(graph.successors(node))\n",
    "    s.update(graph.predecessors(node))\n",
    "    for n in s:\n",
    "        s2.update(graph.successors(n))\n",
    "        s2.update(graph.predecessors(n))\n",
    "    return s | s2\n",
    "\n",
    "langs_in_radius2 = defaultdict(Counter)\n",
    "\n",
    "nodes = tqdm.tqdm((node for node in graph if graph.degree(node) >= 10), total=107000)\n",
    "for node in nodes:\n",
    "    for node2 in nodes_in_radius2(graph, node):\n",
    "        if isinstance(node2, LexemeBase):\n",
    "            langs_in_radius2[node][node2.language] += 1\n",
    "            \n",
    "langs_in_radius2 = {k: v for k, v in langs_in_radius2.items() if len(v) > 10}"
   ]
  },
  {
   "cell_type": "code",
   "execution_count": null,
   "id": "9d9c5d6f",
   "metadata": {},
   "outputs": [],
   "source": [
    "len(langs_in_radius2)"
   ]
  },
  {
   "cell_type": "code",
   "execution_count": null,
   "id": "29625baf",
   "metadata": {},
   "outputs": [],
   "source": [
    "# nodes that connect the most languages\n",
    "{k: len(langs_in_radius2[k]) for k in sorted(langs_in_radius2, key=lambda k: len(langs_in_radius2[k]), reverse=True)[:100]}"
   ]
  }
 ],
 "metadata": {
  "kernelspec": {
   "display_name": "Python 3 (ipykernel)",
   "language": "python",
   "name": "python3"
  },
  "language_info": {
   "codemirror_mode": {
    "name": "ipython",
    "version": 3
   },
   "file_extension": ".py",
   "mimetype": "text/x-python",
   "name": "python",
   "nbconvert_exporter": "python",
   "pygments_lexer": "ipython3",
   "version": "3.9.0"
  }
 },
 "nbformat": 4,
 "nbformat_minor": 5
}
